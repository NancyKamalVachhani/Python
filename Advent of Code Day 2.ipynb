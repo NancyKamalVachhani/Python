{
 "cells": [
  {
   "cell_type": "code",
   "execution_count": 1,
   "metadata": {},
   "outputs": [
    {
     "name": "stdout",
     "output_type": "stream",
     "text": [
      "5335\n"
     ]
    }
   ],
   "source": [
    "inst2=[1,0,0,3,1,1,2,3,1,3,4,3,1,5,0,3,2,13,1,19,1,10,19,23,1,23,9,27,1,5,27,31,2,31,13,35,1,35,5,39,1,39,5,43,2,13,43,47,2,47,10,51,1,51,6,55,2,55,9,59,1,59,5,63,1,63,13,67,2,67,6,71,1,71,5,75,1,75,5,79,1,79,9,83,1,10,83,87,1,87,10,91,1,91,9,95,1,10,95,99,1,10,99,103,2,103,10,107,1,107,9,111,2,6,111,115,1,5,115,119,2,119,13,123,1,6,123,127,2,9,127,131,1,131,5,135,1,135,13,139,1,139,10,143,1,2,143,147,1,147,10,0,99,2,0,14,0]\n",
    "\n",
    "for x in range(99):\n",
    "    for y in range(99):\n",
    "        pc=0\n",
    "        inst=inst2.copy()\n",
    "        inst[1]=x\n",
    "        inst[2]=y\n",
    "        while(True):\n",
    "            if inst[pc]==1:\n",
    "                inst[inst[pc+3]]=inst[inst[pc+1]]+inst[inst[pc+2]]\n",
    "                pc = pc + 4\n",
    "                #print(list(inst))\n",
    "            elif inst[pc]==2:\n",
    "                inst[inst[pc+3]]=inst[inst[pc+1]]*inst[inst[pc+2]]\n",
    "                pc = pc + 4\n",
    "                #print(list(inst))\n",
    "            elif inst[pc]==99:\n",
    "                break\n",
    "            else:\n",
    "                print(\"ERROR\")\n",
    "        if(inst[0]==19690720):\n",
    "            print(100*x+y)"
   ]
  },
  {
   "cell_type": "code",
   "execution_count": null,
   "metadata": {},
   "outputs": [],
   "source": []
  }
 ],
 "metadata": {
  "kernelspec": {
   "display_name": "Python 3",
   "language": "python",
   "name": "python3"
  },
  "language_info": {
   "codemirror_mode": {
    "name": "ipython",
    "version": 3
   },
   "file_extension": ".py",
   "mimetype": "text/x-python",
   "name": "python",
   "nbconvert_exporter": "python",
   "pygments_lexer": "ipython3",
   "version": "3.6.5"
  }
 },
 "nbformat": 4,
 "nbformat_minor": 2
}
